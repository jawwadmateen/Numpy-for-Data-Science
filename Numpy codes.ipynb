{
 "cells": [
  {
   "cell_type": "code",
   "execution_count": 1,
   "id": "a8afdaf0",
   "metadata": {},
   "outputs": [],
   "source": [
    "#numpy practice code\n",
    "import numpy as np"
   ]
  },
  {
   "cell_type": "code",
   "execution_count": 2,
   "id": "be6abf91",
   "metadata": {},
   "outputs": [
    {
     "data": {
      "text/plain": [
       "array([1, 2, 3, 4])"
      ]
     },
     "execution_count": 2,
     "metadata": {},
     "output_type": "execute_result"
    }
   ],
   "source": [
    "myarr=np.array([1,2,3,4])\n",
    "myarr\n"
   ]
  },
  {
   "cell_type": "code",
   "execution_count": 3,
   "id": "cd49e76e",
   "metadata": {},
   "outputs": [
    {
     "data": {
      "text/plain": [
       "array([   1,    2, 3777,    4], dtype=int64)"
      ]
     },
     "execution_count": 3,
     "metadata": {},
     "output_type": "execute_result"
    }
   ],
   "source": [
    "myarr1=np.array([1,2,3777,4],np.int64)\n",
    "myarr1\n",
    "#int8,int32,int64 can also be used (all are datatypes)\n"
   ]
  },
  {
   "cell_type": "code",
   "execution_count": 4,
   "id": "d8f56e97",
   "metadata": {},
   "outputs": [
    {
     "data": {
      "text/plain": [
       "1"
      ]
     },
     "execution_count": 4,
     "metadata": {},
     "output_type": "execute_result"
    }
   ],
   "source": [
    "myarr2=np.array([1,2,33,44]) #one dimensional arrays\n",
    "myarr2[0]"
   ]
  },
  {
   "cell_type": "code",
   "execution_count": 5,
   "id": "0a28a043",
   "metadata": {},
   "outputs": [
    {
     "data": {
      "text/plain": [
       "1"
      ]
     },
     "execution_count": 5,
     "metadata": {},
     "output_type": "execute_result"
    }
   ],
   "source": [
    "myarr3=np.array([[1,2,55,66,44]]) #two dimensional array\n",
    "myarr3[0][0]"
   ]
  },
  {
   "cell_type": "code",
   "execution_count": 6,
   "id": "452c88e8",
   "metadata": {},
   "outputs": [
    {
     "data": {
      "text/plain": [
       "(1, 5)"
      ]
     },
     "execution_count": 6,
     "metadata": {},
     "output_type": "execute_result"
    }
   ],
   "source": [
    "myarr3.shape \n",
    "#used to get information regarding array column and rows \n",
    "#myarr3 has 1 row and 5 columns"
   ]
  },
  {
   "cell_type": "code",
   "execution_count": 7,
   "id": "d391b5ef",
   "metadata": {},
   "outputs": [
    {
     "data": {
      "text/plain": [
       "dtype('int32')"
      ]
     },
     "execution_count": 7,
     "metadata": {},
     "output_type": "execute_result"
    }
   ],
   "source": [
    "myarr3.dtype #to find the datatype of array"
   ]
  },
  {
   "cell_type": "code",
   "execution_count": 8,
   "id": "a5bef718",
   "metadata": {},
   "outputs": [
    {
     "data": {
      "text/plain": [
       "array([[ 1, 45, 55, 66, 44]])"
      ]
     },
     "execution_count": 8,
     "metadata": {},
     "output_type": "execute_result"
    }
   ],
   "source": [
    "myarr3[0,1]=45 #assigning values to the array indexes\n",
    "myarr3"
   ]
  },
  {
   "cell_type": "code",
   "execution_count": 9,
   "id": "e721a1f9",
   "metadata": {},
   "outputs": [
    {
     "data": {
      "text/plain": [
       "array([[1, 2, 3],\n",
       "       [4, 5, 6],\n",
       "       [7, 8, 9]])"
      ]
     },
     "execution_count": 9,
     "metadata": {},
     "output_type": "execute_result"
    }
   ],
   "source": [
    "#numpy array creation methods\n",
    "#conversion from other python structures\n",
    "listarray=np.array([[1,2,3],[4,5,6],[7,8,9]])\n",
    "listarray"
   ]
  },
  {
   "cell_type": "code",
   "execution_count": 10,
   "id": "9b6d2a6c",
   "metadata": {},
   "outputs": [
    {
     "data": {
      "text/plain": [
       "dtype('int32')"
      ]
     },
     "execution_count": 10,
     "metadata": {},
     "output_type": "execute_result"
    }
   ],
   "source": [
    "listarray.dtype"
   ]
  },
  {
   "cell_type": "code",
   "execution_count": 11,
   "id": "b561882d",
   "metadata": {},
   "outputs": [
    {
     "data": {
      "text/plain": [
       "(3, 3)"
      ]
     },
     "execution_count": 11,
     "metadata": {},
     "output_type": "execute_result"
    }
   ],
   "source": [
    "listarray.shape"
   ]
  },
  {
   "cell_type": "code",
   "execution_count": 12,
   "id": "60145032",
   "metadata": {},
   "outputs": [
    {
     "data": {
      "text/plain": [
       "9"
      ]
     },
     "execution_count": 12,
     "metadata": {},
     "output_type": "execute_result"
    }
   ],
   "source": [
    "listarray.size"
   ]
  },
  {
   "cell_type": "code",
   "execution_count": 13,
   "id": "f3982451",
   "metadata": {},
   "outputs": [
    {
     "data": {
      "text/plain": [
       "array({1, 33, 22, 54, 44}, dtype=object)"
      ]
     },
     "execution_count": 13,
     "metadata": {},
     "output_type": "execute_result"
    }
   ],
   "source": [
    "np.array({1,22,33,54,44})\n",
    "#from dictionary avoid dtype as object when doing calculation tasks"
   ]
  },
  {
   "cell_type": "code",
   "execution_count": 14,
   "id": "f8d0d00b",
   "metadata": {},
   "outputs": [
    {
     "data": {
      "text/plain": [
       "array([[0., 0., 0., 0., 0.],\n",
       "       [0., 0., 0., 0., 0.]])"
      ]
     },
     "execution_count": 14,
     "metadata": {},
     "output_type": "execute_result"
    }
   ],
   "source": [
    "zeros=np.zeros((2,5)) #to create an array having 2 rows and 5 columns and fill it with zeros\n",
    "zeros"
   ]
  },
  {
   "cell_type": "code",
   "execution_count": 15,
   "id": "3d85d6f4",
   "metadata": {},
   "outputs": [
    {
     "data": {
      "text/plain": [
       "array([ 0,  1,  2,  3,  4,  5,  6,  7,  8,  9, 10, 11, 12, 13, 14])"
      ]
     },
     "execution_count": 15,
     "metadata": {},
     "output_type": "execute_result"
    }
   ],
   "source": [
    "rng=np.arange(15) #to create a single dimensional array with range of 0-14\n",
    "rng"
   ]
  },
  {
   "cell_type": "code",
   "execution_count": 16,
   "id": "a27a80df",
   "metadata": {},
   "outputs": [
    {
     "data": {
      "text/plain": [
       "array([1., 2., 3., 4.])"
      ]
     },
     "execution_count": 16,
     "metadata": {},
     "output_type": "execute_result"
    }
   ],
   "source": [
    "lspace=np.linspace(1,4,4) #to create an array which is having first element as 1 and last element as 4 and number elements are 4 \n",
    "lspace #difference between all 4 elements is same"
   ]
  },
  {
   "cell_type": "code",
   "execution_count": 17,
   "id": "babeea2b",
   "metadata": {},
   "outputs": [
    {
     "data": {
      "text/plain": [
       "array([[6.23042070e-307, 4.67296746e-307],\n",
       "       [1.69121096e-306, 1.24610994e-306],\n",
       "       [1.42413555e-306, 1.78019082e-306],\n",
       "       [1.37959740e-306, 2.29178686e-312]])"
      ]
     },
     "execution_count": 17,
     "metadata": {},
     "output_type": "execute_result"
    }
   ],
   "source": [
    "emp=np.empty((4,2)) #to create an array and fill it with random numbers \n",
    "emp"
   ]
  },
  {
   "cell_type": "code",
   "execution_count": 18,
   "id": "a68923da",
   "metadata": {},
   "outputs": [
    {
     "data": {
      "text/plain": [
       "array([1., 2., 3., 4.])"
      ]
     },
     "execution_count": 18,
     "metadata": {},
     "output_type": "execute_result"
    }
   ],
   "source": [
    "emp1=np.empty_like(lspace) #to create another array having same dimensions as other array you entered (in this case lspace)\n",
    "emp1"
   ]
  },
  {
   "cell_type": "code",
   "execution_count": 19,
   "id": "191d11bc",
   "metadata": {},
   "outputs": [
    {
     "data": {
      "text/plain": [
       "array([[1., 0., 0., ..., 0., 0., 0.],\n",
       "       [0., 1., 0., ..., 0., 0., 0.],\n",
       "       [0., 0., 1., ..., 0., 0., 0.],\n",
       "       ...,\n",
       "       [0., 0., 0., ..., 1., 0., 0.],\n",
       "       [0., 0., 0., ..., 0., 1., 0.],\n",
       "       [0., 0., 0., ..., 0., 0., 1.]])"
      ]
     },
     "execution_count": 19,
     "metadata": {},
     "output_type": "execute_result"
    }
   ],
   "source": [
    "#to create an identity matrix\n",
    "ide=np.identity(45)\n",
    "ide\n"
   ]
  },
  {
   "cell_type": "code",
   "execution_count": 20,
   "id": "fec5f1a9",
   "metadata": {},
   "outputs": [
    {
     "data": {
      "text/plain": [
       "(45, 45)"
      ]
     },
     "execution_count": 20,
     "metadata": {},
     "output_type": "execute_result"
    }
   ],
   "source": [
    "ide.shape"
   ]
  },
  {
   "cell_type": "code",
   "execution_count": 21,
   "id": "a65fbf3b",
   "metadata": {},
   "outputs": [
    {
     "data": {
      "text/plain": [
       "array([ 0,  1,  2,  3,  4,  5,  6,  7,  8,  9, 10, 11, 12, 13, 14, 15, 16,\n",
       "       17, 18, 19, 20, 21, 22, 23, 24, 25, 26, 27, 28, 29, 30, 31, 32, 33,\n",
       "       34, 35, 36, 37, 38, 39, 40, 41, 42, 43, 44, 45, 46, 47, 48, 49, 50,\n",
       "       51, 52, 53, 54, 55, 56, 57, 58, 59, 60, 61, 62, 63, 64, 65, 66, 67,\n",
       "       68, 69, 70, 71, 72, 73, 74, 75, 76, 77, 78, 79, 80, 81, 82, 83, 84,\n",
       "       85, 86, 87, 88, 89, 90, 91, 92, 93, 94, 95, 96, 97, 98])"
      ]
     },
     "execution_count": 21,
     "metadata": {},
     "output_type": "execute_result"
    }
   ],
   "source": [
    "arr8=np.arange(99)\n",
    "arr8"
   ]
  },
  {
   "cell_type": "code",
   "execution_count": 22,
   "id": "c837f0f5",
   "metadata": {},
   "outputs": [
    {
     "data": {
      "text/plain": [
       "array([ 0,  1,  2,  3,  4,  5,  6,  7,  8,  9, 10, 11, 12, 13, 14, 15, 16,\n",
       "       17, 18, 19, 20, 21, 22, 23, 24, 25, 26, 27, 28, 29, 30, 31, 32, 33,\n",
       "       34, 35, 36, 37, 38, 39, 40, 41, 42, 43, 44, 45, 46, 47, 48, 49, 50,\n",
       "       51, 52, 53, 54, 55, 56, 57, 58, 59, 60, 61, 62, 63, 64, 65, 66, 67,\n",
       "       68, 69, 70, 71, 72, 73, 74, 75, 76, 77, 78, 79, 80, 81, 82, 83, 84,\n",
       "       85, 86, 87, 88, 89, 90, 91, 92, 93, 94, 95, 96, 97, 98])"
      ]
     },
     "execution_count": 22,
     "metadata": {},
     "output_type": "execute_result"
    }
   ],
   "source": [
    "arr8.reshape(3,33) #3x33=99 to reshape the array\n",
    "arr8"
   ]
  },
  {
   "cell_type": "code",
   "execution_count": 23,
   "id": "2b6606a3",
   "metadata": {},
   "outputs": [
    {
     "data": {
      "text/plain": [
       "array([[ 0,  1,  2,  3,  4,  5,  6,  7,  8,  9, 10, 11, 12, 13, 14, 15,\n",
       "        16, 17, 18, 19, 20, 21, 22, 23, 24, 25, 26, 27, 28, 29, 30, 31,\n",
       "        32],\n",
       "       [33, 34, 35, 36, 37, 38, 39, 40, 41, 42, 43, 44, 45, 46, 47, 48,\n",
       "        49, 50, 51, 52, 53, 54, 55, 56, 57, 58, 59, 60, 61, 62, 63, 64,\n",
       "        65],\n",
       "       [66, 67, 68, 69, 70, 71, 72, 73, 74, 75, 76, 77, 78, 79, 80, 81,\n",
       "        82, 83, 84, 85, 86, 87, 88, 89, 90, 91, 92, 93, 94, 95, 96, 97,\n",
       "        98]])"
      ]
     },
     "execution_count": 23,
     "metadata": {},
     "output_type": "execute_result"
    }
   ],
   "source": [
    "arr8=arr8.reshape(3,33) #to upgrade the shape of array\n",
    "arr8"
   ]
  },
  {
   "cell_type": "code",
   "execution_count": 24,
   "id": "70a8252d",
   "metadata": {},
   "outputs": [
    {
     "data": {
      "text/plain": [
       "(3, 33)"
      ]
     },
     "execution_count": 24,
     "metadata": {},
     "output_type": "execute_result"
    }
   ],
   "source": [
    "arr8.shape"
   ]
  },
  {
   "cell_type": "code",
   "execution_count": 25,
   "id": "6a2765c5",
   "metadata": {},
   "outputs": [],
   "source": [
    "arr8=arr8.ravel() #to transform a two dimensional array into a 1 dimensional array"
   ]
  },
  {
   "cell_type": "code",
   "execution_count": 26,
   "id": "04492c87",
   "metadata": {},
   "outputs": [
    {
     "data": {
      "text/plain": [
       "(99,)"
      ]
     },
     "execution_count": 26,
     "metadata": {},
     "output_type": "execute_result"
    }
   ],
   "source": [
    "arr8.shape"
   ]
  },
  {
   "cell_type": "code",
   "execution_count": 27,
   "id": "7c68b598",
   "metadata": {},
   "outputs": [
    {
     "data": {
      "text/plain": [
       "array([42, 45, 48])"
      ]
     },
     "execution_count": 27,
     "metadata": {},
     "output_type": "execute_result"
    }
   ],
   "source": [
    "x=[[11,12,13],[14,15,16],[17,18,19]]\n",
    "arr9=np.array(x)\n",
    "arr9.sum(axis=0) #axis=0 means row 42=11+14+17\n",
    "\n",
    "\n",
    "\n"
   ]
  },
  {
   "cell_type": "code",
   "execution_count": 28,
   "id": "e60c06c1",
   "metadata": {},
   "outputs": [
    {
     "data": {
      "text/plain": [
       "array([36, 45, 54])"
      ]
     },
     "execution_count": 28,
     "metadata": {},
     "output_type": "execute_result"
    }
   ],
   "source": [
    "arr9.sum(axis=1) #axis=1 means column 36=11+12+13\n"
   ]
  },
  {
   "cell_type": "code",
   "execution_count": 29,
   "id": "18d0fbe2",
   "metadata": {},
   "outputs": [
    {
     "data": {
      "text/plain": [
       "array([[11, 12, 13],\n",
       "       [14, 15, 16],\n",
       "       [17, 18, 19]])"
      ]
     },
     "execution_count": 29,
     "metadata": {},
     "output_type": "execute_result"
    }
   ],
   "source": [
    "\n",
    "arr9"
   ]
  },
  {
   "cell_type": "code",
   "execution_count": 30,
   "id": "bfcabde9",
   "metadata": {},
   "outputs": [
    {
     "data": {
      "text/plain": [
       "array([[11, 14, 17],\n",
       "       [12, 15, 18],\n",
       "       [13, 16, 19]])"
      ]
     },
     "execution_count": 30,
     "metadata": {},
     "output_type": "execute_result"
    }
   ],
   "source": [
    "arr9.T #Transpose of matrix \n"
   ]
  },
  {
   "cell_type": "code",
   "execution_count": 31,
   "id": "907ed5f9",
   "metadata": {},
   "outputs": [
    {
     "data": {
      "text/plain": [
       "<numpy.flatiter at 0x1d4dc9c3320>"
      ]
     },
     "execution_count": 31,
     "metadata": {},
     "output_type": "execute_result"
    }
   ],
   "source": [
    "arr9.flat"
   ]
  },
  {
   "cell_type": "code",
   "execution_count": 32,
   "id": "1f478485",
   "metadata": {},
   "outputs": [
    {
     "name": "stdout",
     "output_type": "stream",
     "text": [
      "11\n",
      "12\n",
      "13\n",
      "14\n",
      "15\n",
      "16\n",
      "17\n",
      "18\n",
      "19\n"
     ]
    }
   ],
   "source": [
    "for i in arr9.flat: #in order to iterate through whole array\n",
    "    print(i)"
   ]
  },
  {
   "cell_type": "code",
   "execution_count": 33,
   "id": "8ba6aa5c",
   "metadata": {},
   "outputs": [
    {
     "data": {
      "text/plain": [
       "2"
      ]
     },
     "execution_count": 33,
     "metadata": {},
     "output_type": "execute_result"
    }
   ],
   "source": [
    "arr9.ndim #to tell the number of dimensions of array"
   ]
  },
  {
   "cell_type": "code",
   "execution_count": 34,
   "id": "31dc7279",
   "metadata": {},
   "outputs": [
    {
     "data": {
      "text/plain": [
       "9"
      ]
     },
     "execution_count": 34,
     "metadata": {},
     "output_type": "execute_result"
    }
   ],
   "source": [
    "arr9.size #to get size of array"
   ]
  },
  {
   "cell_type": "code",
   "execution_count": 35,
   "id": "f9e575df",
   "metadata": {},
   "outputs": [
    {
     "data": {
      "text/plain": [
       "36"
      ]
     },
     "execution_count": 35,
     "metadata": {},
     "output_type": "execute_result"
    }
   ],
   "source": [
    "arr9.nbytes #to know the total  number of bytes consumed/used by the array"
   ]
  },
  {
   "cell_type": "code",
   "execution_count": 36,
   "id": "c4ae6091",
   "metadata": {},
   "outputs": [
    {
     "data": {
      "text/plain": [
       "6"
      ]
     },
     "execution_count": 36,
     "metadata": {},
     "output_type": "execute_result"
    }
   ],
   "source": [
    "one=np.array([1,2,3,4,55,33,99])\n",
    "one.argmax() #gives the index where largest element\n"
   ]
  },
  {
   "cell_type": "code",
   "execution_count": 43,
   "id": "368ab10c",
   "metadata": {},
   "outputs": [
    {
     "data": {
      "text/plain": [
       "0"
      ]
     },
     "execution_count": 43,
     "metadata": {},
     "output_type": "execute_result"
    }
   ],
   "source": [
    "g=one.argmin() #gives the index of smallest element\n",
    "g"
   ]
  },
  {
   "cell_type": "code",
   "execution_count": 44,
   "id": "0b876bb1",
   "metadata": {},
   "outputs": [
    {
     "data": {
      "text/plain": [
       "array([0, 1, 2, 3, 5, 4, 6], dtype=int64)"
      ]
     },
     "execution_count": 44,
     "metadata": {},
     "output_type": "execute_result"
    }
   ],
   "source": [
    "one.argsort() #gives the sorted indexes of elements of an array"
   ]
  },
  {
   "cell_type": "code",
   "execution_count": 46,
   "id": "1fc1f6d2",
   "metadata": {},
   "outputs": [
    {
     "data": {
      "text/plain": [
       "5"
      ]
     },
     "execution_count": 46,
     "metadata": {},
     "output_type": "execute_result"
    }
   ],
   "source": [
    "arr10=np.array([[1,2,3],[4,5,6]]) #minimum element in 2-D array is found by making the 2D array linear \n",
    "arr10.argmin() #it then finds the index of the smallest element\n",
    "arr10.argmax() #same with argmax()\n"
   ]
  },
  {
   "cell_type": "code",
   "execution_count": 47,
   "id": "43eba92b",
   "metadata": {},
   "outputs": [
    {
     "data": {
      "text/plain": [
       "array([1, 1, 1], dtype=int64)"
      ]
     },
     "execution_count": 47,
     "metadata": {},
     "output_type": "execute_result"
    }
   ],
   "source": [
    "arr10.argmax(axis=0)\n",
    "#with rows it will compare as in arr10 4,5,6 are largest elements of their rows and indexes are 1,1,1"
   ]
  },
  {
   "cell_type": "code",
   "execution_count": 48,
   "id": "c0f00a99",
   "metadata": {},
   "outputs": [
    {
     "data": {
      "text/plain": [
       "array([2, 2], dtype=int64)"
      ]
     },
     "execution_count": 48,
     "metadata": {},
     "output_type": "execute_result"
    }
   ],
   "source": [
    "arr10.argmax(axis=1)\n",
    "#axis=1"
   ]
  },
  {
   "cell_type": "code",
   "execution_count": 49,
   "id": "22d1cd09",
   "metadata": {},
   "outputs": [
    {
     "data": {
      "text/plain": [
       "array([[0, 0, 0],\n",
       "       [1, 1, 1]], dtype=int64)"
      ]
     },
     "execution_count": 49,
     "metadata": {},
     "output_type": "execute_result"
    }
   ],
   "source": [
    "arr10.argsort(axis=0)\n"
   ]
  },
  {
   "cell_type": "code",
   "execution_count": 50,
   "id": "4c53ef98",
   "metadata": {},
   "outputs": [
    {
     "data": {
      "text/plain": [
       "array([[0, 1, 2],\n",
       "       [0, 1, 2]], dtype=int64)"
      ]
     },
     "execution_count": 50,
     "metadata": {},
     "output_type": "execute_result"
    }
   ],
   "source": [
    "arr10.argsort(axis=1)"
   ]
  },
  {
   "cell_type": "code",
   "execution_count": 52,
   "id": "9f538865",
   "metadata": {},
   "outputs": [
    {
     "data": {
      "text/plain": [
       "array([[2, 3, 4],\n",
       "       [2, 3, 4]])"
      ]
     },
     "execution_count": 52,
     "metadata": {},
     "output_type": "execute_result"
    }
   ],
   "source": [
    "arr11=np.array([[1,2,3],[1,2,3]])\n",
    "arr12=np.array([[1,1,1],[1,1,1]])\n",
    "arr11+arr12 #adding two arrays "
   ]
  },
  {
   "cell_type": "code",
   "execution_count": 53,
   "id": "b4dc8ece",
   "metadata": {},
   "outputs": [
    {
     "data": {
      "text/plain": [
       "[12, 13, 14, 15]"
      ]
     },
     "execution_count": 53,
     "metadata": {},
     "output_type": "execute_result"
    }
   ],
   "source": [
    "[12,13]+[14,15] #concatenating two lists\n"
   ]
  },
  {
   "cell_type": "code",
   "execution_count": 54,
   "id": "ea88e2e6",
   "metadata": {},
   "outputs": [
    {
     "data": {
      "text/plain": [
       "array([[1, 2, 3],\n",
       "       [1, 2, 3]])"
      ]
     },
     "execution_count": 54,
     "metadata": {},
     "output_type": "execute_result"
    }
   ],
   "source": [
    "arr11*arr12 #multiplying two arrays"
   ]
  },
  {
   "cell_type": "code",
   "execution_count": 55,
   "id": "2113a8f5",
   "metadata": {},
   "outputs": [
    {
     "data": {
      "text/plain": [
       "array([[1.        , 1.41421356, 1.73205081],\n",
       "       [1.        , 1.41421356, 1.73205081]])"
      ]
     },
     "execution_count": 55,
     "metadata": {},
     "output_type": "execute_result"
    }
   ],
   "source": [
    "np.sqrt(arr11) #taking square root of an array"
   ]
  },
  {
   "cell_type": "code",
   "execution_count": 56,
   "id": "98e218a2",
   "metadata": {},
   "outputs": [
    {
     "data": {
      "text/plain": [
       "12"
      ]
     },
     "execution_count": 56,
     "metadata": {},
     "output_type": "execute_result"
    }
   ],
   "source": [
    "arr11.sum() #sum of all elements in an array"
   ]
  },
  {
   "cell_type": "code",
   "execution_count": 57,
   "id": "cd36f378",
   "metadata": {},
   "outputs": [
    {
     "data": {
      "text/plain": [
       "3"
      ]
     },
     "execution_count": 57,
     "metadata": {},
     "output_type": "execute_result"
    }
   ],
   "source": [
    "arr11.max() #prints maximum value of an array"
   ]
  },
  {
   "cell_type": "code",
   "execution_count": 58,
   "id": "45c1cd8e",
   "metadata": {},
   "outputs": [
    {
     "data": {
      "text/plain": [
       "1"
      ]
     },
     "execution_count": 58,
     "metadata": {},
     "output_type": "execute_result"
    }
   ],
   "source": [
    "arr11.min() #prints minimum value of an array"
   ]
  },
  {
   "cell_type": "code",
   "execution_count": 61,
   "id": "1157cc77",
   "metadata": {},
   "outputs": [
    {
     "data": {
      "text/plain": [
       "(array([0, 0, 1, 1], dtype=int64), array([0, 1, 0, 1], dtype=int64))"
      ]
     },
     "execution_count": 61,
     "metadata": {},
     "output_type": "execute_result"
    }
   ],
   "source": [
    "np.where(arr11<3) #[0,0],[0,1],[1,0],[1,1]"
   ]
  },
  {
   "cell_type": "code",
   "execution_count": 62,
   "id": "93ce3ea2",
   "metadata": {},
   "outputs": [
    {
     "data": {
      "text/plain": [
       "6"
      ]
     },
     "execution_count": 62,
     "metadata": {},
     "output_type": "execute_result"
    }
   ],
   "source": [
    "np.count_nonzero(arr11) #gives count of non zero elements"
   ]
  },
  {
   "cell_type": "code",
   "execution_count": 63,
   "id": "80eefb10",
   "metadata": {},
   "outputs": [
    {
     "data": {
      "text/plain": [
       "(array([0, 0, 0, 1, 1, 1], dtype=int64),\n",
       " array([0, 1, 2, 0, 1, 2], dtype=int64))"
      ]
     },
     "execution_count": 63,
     "metadata": {},
     "output_type": "execute_result"
    }
   ],
   "source": [
    "np.nonzero(arr11) #gives indexes of non zero elements [0,0],[0,1],[0,2],[1,0],[1,1],[1,2]"
   ]
  },
  {
   "cell_type": "code",
   "execution_count": 66,
   "id": "dedfe249",
   "metadata": {},
   "outputs": [
    {
     "data": {
      "text/plain": [
       "112"
      ]
     },
     "execution_count": 66,
     "metadata": {},
     "output_type": "execute_result"
    }
   ],
   "source": [
    "import sys\n",
    "py_arr=[10,12,14,15]\n",
    "arr13=np.array(py_arr)\n",
    "sys.getsizeof(1)*len(py_arr) #size of normal array without using numpy\n",
    "\n"
   ]
  },
  {
   "cell_type": "code",
   "execution_count": 68,
   "id": "78005734",
   "metadata": {},
   "outputs": [
    {
     "data": {
      "text/plain": [
       "16"
      ]
     },
     "execution_count": 68,
     "metadata": {},
     "output_type": "execute_result"
    }
   ],
   "source": [
    "arr13.itemsize*arr13.size #size of same  array after using numpy"
   ]
  },
  {
   "cell_type": "code",
   "execution_count": null,
   "id": "e2169505",
   "metadata": {},
   "outputs": [],
   "source": [
    "#link for numpy array attributes and methods\n",
    "#https://docs.scipy.org/doc/numpy-1.6.0/reference/generated/numpy.ndarray.html"
   ]
  }
 ],
 "metadata": {
  "kernelspec": {
   "display_name": "Python 3 (ipykernel)",
   "language": "python",
   "name": "python3"
  },
  "language_info": {
   "codemirror_mode": {
    "name": "ipython",
    "version": 3
   },
   "file_extension": ".py",
   "mimetype": "text/x-python",
   "name": "python",
   "nbconvert_exporter": "python",
   "pygments_lexer": "ipython3",
   "version": "3.9.2"
  }
 },
 "nbformat": 4,
 "nbformat_minor": 5
}
